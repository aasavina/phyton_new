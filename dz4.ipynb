{
 "cells": [
  {
   "cell_type": "markdown",
   "id": "adda6ab3",
   "metadata": {},
   "source": [
    "## Условие 4.1:\n",
    "Даны два списка.\n",
    "Дата покупки\n",
    "['2021-09-14', '2021-12-15', '2021-09-08', '2021-12-05', '2021-10-09', '2021-09-30', '2021-12-22', '2021-11-29', '2021-12-24', '2021-11-26', '2021-10-27', '2021-12-18', '2021-11-09', '2021-11-23', '2021-09-27', '2021-10-02', '2021-12-27', '2021-09-20', '2021-12-13', '2021-11-01', '2021-11-09', '2021-12-06', '2021-12-08', '2021-10-09', '2021-10-31', '2021-09-30', '2021-11-09', '2021-12-13', '2021-10-26', '2021-12-09']\n",
    "Суммы покупок по датам\n",
    "[1270, 8413, 9028, 3703, 5739, 4095, 295, 4944, 5723, 3701, 4471, 651, 7037, 4274, 6275, 4988, 6930, 2971, 6592, 2004, 2822, 519, 3406, 2732, 5015, 2008, 316, 6333, 5700, 2887]\n"
   ]
  },
  {
   "cell_type": "markdown",
   "id": "96812e74",
   "metadata": {},
   "source": [
    "### 4.1 Найдите, какая выручка у компании в ноябре\n",
    "Используйте list comprehensions\n",
    "4.2 Найдите выручку компании в зависимости от месяца\n",
    "Для этого напишите функцию, которая на вход принимает список с датами и список с выручкой, а на выходе словарь, где ключи - это месяцы, а значения - это выручка.\n",
    "Используйте аннотирование типов."
   ]
  },
  {
   "cell_type": "code",
   "execution_count": 1,
   "id": "fd659155",
   "metadata": {},
   "outputs": [],
   "source": [
    "list_dates = ['2021-09-14', '2021-12-15', '2021-09-08', '2021-12-05', '2021-10-09', '2021-09-30', '2021-12-22', '2021-11-29', '2021-12-24', '2021-11-26', '2021-10-27', '2021-12-18', '2021-11-09', '2021-11-23', '2021-09-27',\n",
    "              '2021-10-02', '2021-12-27', '2021-09-20', '2021-12-13', '2021-11-01', '2021-11-09', '2021-12-06', '2021-12-08', '2021-10-09', '2021-10-31', '2021-09-30', '2021-11-09', '2021-12-13', '2021-10-26', '2021-12-09']\n",
    "amount_by_date = [1270, 8413, 9028, 3703, 5739, 4095, 295, 4944, 5723, 3701, 4471, 651, 7037, 4274,\n",
    "                  6275, 4988, 6930, 2971, 6592, 2004, 2822, 519, 3406, 2732, 5015, 2008, 316, 6333, 5700, 2887]"
   ]
  },
  {
   "cell_type": "code",
   "execution_count": 2,
   "id": "01de4c9f",
   "metadata": {},
   "outputs": [],
   "source": [
    "list_Month = [i.split('-')[1] for i in list_dates]"
   ]
  },
  {
   "cell_type": "code",
   "execution_count": 3,
   "id": "52aeac04",
   "metadata": {},
   "outputs": [
    {
     "name": "stdout",
     "output_type": "stream",
     "text": [
      "['09', '12', '09', '12', '10', '09', '12', '11', '12', '11', '10', '12', '11', '11', '09', '10', '12', '09', '12', '11', '11', '12', '12', '10', '10', '09', '11', '12', '10', '12']\n"
     ]
    }
   ],
   "source": [
    "print(list_Month)"
   ]
  },
  {
   "cell_type": "code",
   "execution_count": 4,
   "id": "c7864c9a",
   "metadata": {},
   "outputs": [],
   "source": [
    "tuple_November_Revenue = [(f'Месяц {list_Month[i]}', f'выручка {amount_by_date[j]}')\n",
    "                          for i in range(len(list_Month))\n",
    "                          for j in range(len(amount_by_date))\n",
    "                          if i == j and list_Month[i] == '11']"
   ]
  },
  {
   "cell_type": "code",
   "execution_count": 5,
   "id": "0e5875b6",
   "metadata": {},
   "outputs": [
    {
     "data": {
      "text/plain": [
       "[('Месяц 11', 'выручка 4944'),\n",
       " ('Месяц 11', 'выручка 3701'),\n",
       " ('Месяц 11', 'выручка 7037'),\n",
       " ('Месяц 11', 'выручка 4274'),\n",
       " ('Месяц 11', 'выручка 2004'),\n",
       " ('Месяц 11', 'выручка 2822'),\n",
       " ('Месяц 11', 'выручка 316')]"
      ]
     },
     "execution_count": 5,
     "metadata": {},
     "output_type": "execute_result"
    }
   ],
   "source": [
    "tuple_November_Revenue"
   ]
  },
  {
   "cell_type": "code",
   "execution_count": 6,
   "id": "ede21c85",
   "metadata": {},
   "outputs": [
    {
     "name": "stdout",
     "output_type": "stream",
     "text": [
      "Месяц 11 выручка составило: 25098\n"
     ]
    }
   ],
   "source": [
    "print(tuple_November_Revenue[0][0], f'выручка составило: {sum([amount for dates, amount in zip(list_dates, amount_by_date) if dates[5:7] == \"11\"])}')"
   ]
  },
  {
   "cell_type": "code",
   "execution_count": 8,
   "id": "fe49b1ba",
   "metadata": {},
   "outputs": [],
   "source": [
    "def revenue_by_month(list_date: list, list_revenue: list) -> dict:\n",
    "    # list_Month = [i.split('-')[1] for i in list_date]\n",
    "    # dict_Month = {list_date[i].split('-')[1] : list_revenue[j] for i in range(len(list_date)) for j in range(len(list_revenue)) if i == j}\n",
    "    dict_Month = {}\n",
    "    for i in range(len(list_date)):\n",
    "        if list_date[i].split('-')[1] in dict_Month.keys():\n",
    "            dict_Month[list_date[i].split('-')[1]] += list_revenue[i]\n",
    "        else:\n",
    "            dict_Month[list_date[i].split('-')[1]] = list_revenue[i]\n",
    "    return dict_Month"
   ]
  },
  {
   "cell_type": "code",
   "execution_count": 9,
   "id": "5ddcebf7",
   "metadata": {},
   "outputs": [
    {
     "data": {
      "text/plain": [
       "{'09': 25647, '12': 45452, '10': 28645, '11': 25098}"
      ]
     },
     "execution_count": 9,
     "metadata": {},
     "output_type": "execute_result"
    }
   ],
   "source": [
    "revenue_by_month(list_dates, amount_by_date)"
   ]
  },
  {
   "cell_type": "code",
   "execution_count": null,
   "id": "642941a4",
   "metadata": {},
   "outputs": [],
   "source": []
  }
 ],
 "metadata": {
  "kernelspec": {
   "display_name": "Python 3 (ipykernel)",
   "language": "python",
   "name": "python3"
  },
  "language_info": {
   "codemirror_mode": {
    "name": "ipython",
    "version": 3
   },
   "file_extension": ".py",
   "mimetype": "text/x-python",
   "name": "python",
   "nbconvert_exporter": "python",
   "pygments_lexer": "ipython3",
   "version": "3.9.13"
  }
 },
 "nbformat": 4,
 "nbformat_minor": 5
}
